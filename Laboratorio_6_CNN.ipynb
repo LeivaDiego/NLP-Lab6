{
  "cells": [
    {
      "cell_type": "markdown",
      "metadata": {
        "id": "zXhjY9dGwJls"
      },
      "source": [
        "NOMBRES: Diego Alberto\n",
        "\n",
        "APELLIDOS: Leiva Pérez\n",
        "\n",
        "CARNE: 21752\n",
        "\n",
        "FECHA: 25/09/2025"
      ]
    },
    {
      "cell_type": "markdown",
      "metadata": {
        "id": "n7nnvCPLh5Ms"
      },
      "source": [
        "**Ejercicio 1**\n",
        "Cree un dataset con noticias (Pueden ser falsas) para poder clasificarlas por categoria (Recomiendo que sea binaria para su comodidad)"
      ]
    },
    {
      "cell_type": "code",
      "execution_count": 1,
      "metadata": {
        "id": "r3aTZXJeiFAI"
      },
      "outputs": [],
      "source": [
        "import random\n",
        "from collections import Counter\n",
        "import pandas as pd\n",
        "\n",
        "\n",
        "def generar_dataset_noticias(news_sample=120, seed=42, as_df=True, csv_path=None):\n",
        "    random.seed(seed)\n",
        "\n",
        "    entidades = [\n",
        "        \"Guatemala\",\"Quetzaltenango\",\"Antigua Guatemala\",\"Universidad del Valle\",\n",
        "        \"Congreso\",\"Ministerio de Salud\",\"Municipalidad\",\"CONRED\",\n",
        "        \"Liga Nacional\",\"SAT\",\"Banco de Guatemala\",\"CIV\"\n",
        "    ]\n",
        "    temas = [\n",
        "        \"salud\",\"educación\",\"seguridad\",\"economía\",\"transporte\",\n",
        "        \"tecnología\",\"deporte\",\"ambiente\",\"cultura\",\"energía\"\n",
        "    ]\n",
        "\n",
        "    plantillas_reales = [\n",
        "        \"El {ent} anuncia nuevas medidas para {tema}\",\n",
        "        \"{ent} presenta informe trimestral sobre {tema}\",\n",
        "        \"{ent} inaugura proyecto de {tema} en {lugar}\",\n",
        "        \"{ent} confirma operativo de control en {lugar}\",\n",
        "        \"{ent} reporta incremento del {porc}% en {tema}\",\n",
        "        \"{ent} establece convenio para fortalecer {tema}\",\n",
        "        \"{ent} publica calendario oficial de {tema}\",\n",
        "        \"{ent} implementa campaña nacional de {tema}\",\n",
        "        \"{ent} actualiza protocolo de {tema}\",\n",
        "        \"{ent} realiza jornada de {tema} en {lugar}\",\n",
        "    ]\n",
        "    plantillas_falsas = [\n",
        "        \"Confirman llegada de extraterrestres a {lugar}\",\n",
        "        \"Descubren fórmula para vivir {anios} años\",\n",
        "        \"Anuncian que los dragones regresarán en {lugar}\",\n",
        "        \"Habilitan viajes en el tiempo desde {lugar}\",\n",
        "        \"Revelan que la Tierra es hueca bajo {lugar}\",\n",
        "        \"Presentan dispositivo que lee la mente en {lugar}\",\n",
        "        \"Aseguran que el café cura todas las enfermedades\",\n",
        "        \"Afirman que un meteorito de oro cayó en {lugar}\",\n",
        "        \"Garantizan ganar la lotería con un método secreto\",\n",
        "        \"Prometen internet gratuito mundial desde mañana\",\n",
        "    ]\n",
        "\n",
        "    def sreal():\n",
        "        ent = random.choice(entidades)\n",
        "        t   = random.choice(temas)\n",
        "        tpl = random.choice(plantillas_reales)\n",
        "        txt = tpl.format(\n",
        "            ent=ent, tema=t, lugar=random.choice(entidades),\n",
        "            porc=random.randint(3,35)\n",
        "        )\n",
        "        return txt + \".\"\n",
        "\n",
        "    def sfake():\n",
        "        tpl = random.choice(plantillas_falsas)\n",
        "        txt = tpl.format(\n",
        "            lugar=random.choice(entidades),\n",
        "            anios=random.randint(150,500)\n",
        "        )\n",
        "        return txt + \".\"\n",
        "\n",
        "    data = []\n",
        "    for _ in range(news_sample):\n",
        "        data.append({\"text\": sreal(), \"label\": 1})\n",
        "    for _ in range(news_sample):\n",
        "        data.append({\"text\": sfake(), \"label\": 0})\n",
        "\n",
        "    random.shuffle(data)\n",
        "\n",
        "    # Stats\n",
        "    dist = Counter([d[\"label\"] for d in data])\n",
        "    print(\"Total:\", len(data), \"| Distribución etiquetas:\", dict(dist))\n",
        "\n",
        "    # Generate dataframe or list of dicts\n",
        "    if as_df:\n",
        "        df = pd.DataFrame(data)\n",
        "        if csv_path:\n",
        "            df.to_csv(csv_path, index=False)\n",
        "            print(f\"CSV guardado en: {csv_path}\")\n",
        "        return df\n",
        "    else:\n",
        "        # Lista de dicts\n",
        "        for r in data[:5]:\n",
        "            print(r)\n",
        "        return data"
      ]
    },
    {
      "cell_type": "code",
      "execution_count": 2,
      "metadata": {
        "id": "Hf3GX1_liFXd"
      },
      "outputs": [
        {
          "name": "stdout",
          "output_type": "stream",
          "text": [
            "Total: 240 | Distribución etiquetas: {1: 120, 0: 120}\n",
            "CSV guardado en: dataset_es.csv\n"
          ]
        },
        {
          "data": {
            "text/html": [
              "<div>\n",
              "<style scoped>\n",
              "    .dataframe tbody tr th:only-of-type {\n",
              "        vertical-align: middle;\n",
              "    }\n",
              "\n",
              "    .dataframe tbody tr th {\n",
              "        vertical-align: top;\n",
              "    }\n",
              "\n",
              "    .dataframe thead th {\n",
              "        text-align: right;\n",
              "    }\n",
              "</style>\n",
              "<table border=\"1\" class=\"dataframe\">\n",
              "  <thead>\n",
              "    <tr style=\"text-align: right;\">\n",
              "      <th></th>\n",
              "      <th>text</th>\n",
              "      <th>label</th>\n",
              "    </tr>\n",
              "  </thead>\n",
              "  <tbody>\n",
              "    <tr>\n",
              "      <th>0</th>\n",
              "      <td>Ministerio de Salud actualiza protocolo de seguridad.</td>\n",
              "      <td>1</td>\n",
              "    </tr>\n",
              "    <tr>\n",
              "      <th>1</th>\n",
              "      <td>Liga Nacional actualiza protocolo de deporte.</td>\n",
              "      <td>1</td>\n",
              "    </tr>\n",
              "    <tr>\n",
              "      <th>2</th>\n",
              "      <td>CIV realiza jornada de energía en CONRED.</td>\n",
              "      <td>1</td>\n",
              "    </tr>\n",
              "    <tr>\n",
              "      <th>3</th>\n",
              "      <td>Anuncian que los dragones regresarán en Universidad del Valle.</td>\n",
              "      <td>0</td>\n",
              "    </tr>\n",
              "    <tr>\n",
              "      <th>4</th>\n",
              "      <td>Confirman llegada de extraterrestres a Universidad del Valle.</td>\n",
              "      <td>0</td>\n",
              "    </tr>\n",
              "  </tbody>\n",
              "</table>\n",
              "</div>"
            ],
            "text/plain": [
              "                                                             text  label\n",
              "0           Ministerio de Salud actualiza protocolo de seguridad.      1\n",
              "1                   Liga Nacional actualiza protocolo de deporte.      1\n",
              "2                       CIV realiza jornada de energía en CONRED.      1\n",
              "3  Anuncian que los dragones regresarán en Universidad del Valle.      0\n",
              "4   Confirman llegada de extraterrestres a Universidad del Valle.      0"
            ]
          },
          "execution_count": 2,
          "metadata": {},
          "output_type": "execute_result"
        }
      ],
      "source": [
        "df = generar_dataset_noticias(news_sample=120, as_df=True, csv_path=\"dataset_es.csv\")\n",
        "pd.set_option('display.max_colwidth', None)\n",
        "df.head()"
      ]
    },
    {
      "cell_type": "markdown",
      "metadata": {
        "id": "fzRf6sNDiF1v"
      },
      "source": [
        "**Ejercicio 2**\n",
        " En base al dataset creado anteriormente Realizar una CNN para poder clasificarla de manera automatica, debe de realizarla con 3 filtros y dejar cada una de ellas como una implementacion nuevo por lo que recomiendo trabajarlo por funciones"
      ]
    },
    {
      "cell_type": "code",
      "execution_count": null,
      "metadata": {
        "id": "WUUiX7oBffZg"
      },
      "outputs": [],
      "source": []
    },
    {
      "cell_type": "markdown",
      "metadata": {
        "id": "YQgZBTIMF0ts"
      },
      "source": []
    },
    {
      "cell_type": "markdown",
      "metadata": {
        "id": "0CUzcKDqF0wJ"
      },
      "source": [
        "**Ejercicio 3**\n",
        "Debe de discutir sus resultados y realizar una comparacion de porque varia dependiendo del filtro que se use"
      ]
    },
    {
      "cell_type": "code",
      "execution_count": null,
      "metadata": {
        "id": "VhKVuJV5F9Dx"
      },
      "outputs": [],
      "source": []
    }
  ],
  "metadata": {
    "colab": {
      "provenance": []
    },
    "kernelspec": {
      "display_name": "nlp-lab6",
      "language": "python",
      "name": "python3"
    },
    "language_info": {
      "codemirror_mode": {
        "name": "ipython",
        "version": 3
      },
      "file_extension": ".py",
      "mimetype": "text/x-python",
      "name": "python",
      "nbconvert_exporter": "python",
      "pygments_lexer": "ipython3",
      "version": "3.12.11"
    }
  },
  "nbformat": 4,
  "nbformat_minor": 0
}
